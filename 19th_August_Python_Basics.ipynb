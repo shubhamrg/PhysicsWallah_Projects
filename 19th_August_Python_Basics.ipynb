{
 "cells": [
  {
   "cell_type": "code",
   "execution_count": 3,
   "id": "eb73acc9-0c2f-44fc-a02f-f60f3997ad3b",
   "metadata": {
    "tags": []
   },
   "outputs": [
    {
     "name": "stdout",
     "output_type": "stream",
     "text": [
      "Before Swaping 3 5\n",
      "After Swapping 5 3\n"
     ]
    }
   ],
   "source": [
    "# TOPIC: Python Basics Variable\n",
    "# 1. Declare two variables, `x` and `y`, and assign them integer values. Swap the values of these variables without using any temporary variable.\n",
    "\n",
    "x = 3\n",
    "y = 5\n",
    "print (\"Before Swaping\", x,y)\n",
    "x , y = y , x\n",
    "print (\"After Swapping\", x,y)\n"
   ]
  },
  {
   "cell_type": "code",
   "execution_count": 4,
   "id": "987522af-bab0-4bcd-beaa-8a1d0f6e81fd",
   "metadata": {},
   "outputs": [
    {
     "name": "stdin",
     "output_type": "stream",
     "text": [
      "Enter the length of the Rectangle :  10 \n",
      "Enter the width of the Rectangle :  7\n"
     ]
    },
    {
     "name": "stdout",
     "output_type": "stream",
     "text": [
      "The Area of the Rectangle is 70\n"
     ]
    }
   ],
   "source": [
    "# 2. Create a program that calculates the area of a rectangle. Take the length and width as inputs from the user and store them in variables. Calculate anddisplay the area.\n",
    "\n",
    "l = int (input('Enter the length of the Rectangle : '))\n",
    "w = int (input('Enter the width of the Rectangle : '))\n",
    "# As we know the Area of Rectangle = length * Width\n",
    "Area = l * w\n",
    "print(\"The Area of the Rectangle is\", Area)\n"
   ]
  },
  {
   "cell_type": "code",
   "execution_count": 5,
   "id": "2a8389e6-f719-4ac8-997b-8aac1fc2e0fa",
   "metadata": {
    "tags": []
   },
   "outputs": [
    {
     "name": "stdin",
     "output_type": "stream",
     "text": [
      "Enter the Temperature in Celsius : 20\n"
     ]
    },
    {
     "name": "stdout",
     "output_type": "stream",
     "text": [
      "Temperature in Fahrenheit is 68.0\n"
     ]
    }
   ],
   "source": [
    "# 3. Write a Python program that converts temperatures from Celsius to Fahrenheit. Take the temperature in Celsius as input, store it in a variable,convert it to Fahrenheit, and display the result.\n",
    "\n",
    "celsius = int (input(\"Enter the Temperature in Celsius :\"))\n",
    "# As we know the Formula of Converting temperature Celsius to Farenheit i.e fahrenheit = (9c/5)+32\n",
    "fahrenheit = (9*celsius/5) + 32\n",
    "print(\"Temperature in Fahrenheit is\",fahrenheit)\n"
   ]
  },
  {
   "cell_type": "code",
   "execution_count": 6,
   "id": "fd298494-5867-4421-b509-1c533e1cc011",
   "metadata": {},
   "outputs": [
    {
     "name": "stdin",
     "output_type": "stream",
     "text": [
      "Enter the string value: Hello World\n"
     ]
    },
    {
     "name": "stdout",
     "output_type": "stream",
     "text": [
      "11\n"
     ]
    }
   ],
   "source": [
    "# TOPIC: String Based Questions\n",
    "# 1. Write a Python program that takes a string as input and prints the length of the string.\n",
    "\n",
    "c = str (input(\"Enter the string value:\"))\n",
    "# len() is the built in function which returns the number of items in a container / Variable \n",
    "print(len(c))\n"
   ]
  },
  {
   "cell_type": "code",
   "execution_count": 7,
   "id": "3e5c820e-f142-4756-9a3c-da5d16867efe",
   "metadata": {},
   "outputs": [
    {
     "name": "stdin",
     "output_type": "stream",
     "text": [
      "Provide the Sentence:  I love Programming\n"
     ]
    },
    {
     "name": "stdout",
     "output_type": "stream",
     "text": [
      "Vowel Count is: 6\n"
     ]
    }
   ],
   "source": [
    "# 2. Create a program that takes a sentence from the user and counts the number of vowels (a, e, i, o, u) in the string.\n",
    "\n",
    "c = str (input(\"Provide the Sentence: \"))\n",
    "vowels = \"aeiouAEIOU\"\n",
    "# count() is an inbuilt function in python for counting the item passed in the parentheses.\n",
    "count = sum (c.count(vowel) for vowel in vowels)\n",
    "print (\"Vowel Count is:\",count)"
   ]
  },
  {
   "cell_type": "code",
   "execution_count": 9,
   "id": "ef47bd05-c3f6-4cde-aa20-e5547c2583a9",
   "metadata": {},
   "outputs": [
    {
     "name": "stdin",
     "output_type": "stream",
     "text": [
      "Enter a string value :  DATA SCIENCE\n"
     ]
    },
    {
     "name": "stdout",
     "output_type": "stream",
     "text": [
      "ECNEICS ATAD\n"
     ]
    }
   ],
   "source": [
    "# 3. Given a string, reverse the order of characters using string slicing and print the reversed string.\n",
    "\n",
    "x = str (input(\"Enter a string value : \"))\n",
    "print (x[::-1])\n"
   ]
  },
  {
   "cell_type": "code",
   "execution_count": 4,
   "id": "b875467c-cd82-4a85-a698-7e7ffb99d959",
   "metadata": {
    "tags": []
   },
   "outputs": [
    {
     "name": "stdin",
     "output_type": "stream",
     "text": [
      "Enter a string value Shubham\n"
     ]
    },
    {
     "name": "stdout",
     "output_type": "stream",
     "text": [
      "mahbuhS is not Palindrome\n"
     ]
    }
   ],
   "source": [
    "# 4. Write a program that takes a string as input and checks if it is a palindrome (reads the same forwards and backwards).\n",
    "\n",
    "# Here We have first defined isPalindrome function.\n",
    "def isPalindrome (s):\n",
    "    return s[::-1]\n",
    "s=str(input(\"Enter a string value\"))\n",
    "\n",
    "rev = s[::-1]\n",
    "\n",
    "if s == rev:\n",
    "    print (rev +\" \"+\"is Palindrome\")\n",
    "else:\n",
    "    print (rev +\" \"+\"is not Palindrome\")\n",
    "    \n"
   ]
  },
  {
   "cell_type": "code",
   "execution_count": 11,
   "id": "edb3843e-7251-4739-9875-241ee500fd2b",
   "metadata": {},
   "outputs": [
    {
     "name": "stdin",
     "output_type": "stream",
     "text": [
      "Enter a string value Jai Shree Ram\n"
     ]
    },
    {
     "name": "stdout",
     "output_type": "stream",
     "text": [
      "JaiShreeRam\n"
     ]
    }
   ],
   "source": [
    "# Here We have first called remove inbuilt function to remove spaces from the input string value\n",
    "\n",
    "def remove(s1):\n",
    "# Here we have used replace() function to replace spaces.\n",
    "    return s1.replace(\" \",\"\")\n",
    "s1 = str(input(\"Enter a string value\"))\n",
    "print (remove(s1))\n"
   ]
  },
  {
   "cell_type": "code",
   "execution_count": null,
   "id": "0009024e-855a-40df-9bf4-a44096f33111",
   "metadata": {},
   "outputs": [],
   "source": []
  }
 ],
 "metadata": {
  "kernelspec": {
   "display_name": "Python 3 (ipykernel)",
   "language": "python",
   "name": "python3"
  },
  "language_info": {
   "codemirror_mode": {
    "name": "ipython",
    "version": 3
   },
   "file_extension": ".py",
   "mimetype": "text/x-python",
   "name": "python",
   "nbconvert_exporter": "python",
   "pygments_lexer": "ipython3",
   "version": "3.10.8"
  }
 },
 "nbformat": 4,
 "nbformat_minor": 5
}
